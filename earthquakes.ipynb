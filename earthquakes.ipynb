{
 "cells": [
  {
   "cell_type": "code",
   "execution_count": 1,
   "metadata": {},
   "outputs": [
    {
     "data": {
      "text/html": [
       "<div>\n",
       "<style scoped>\n",
       "    .dataframe tbody tr th:only-of-type {\n",
       "        vertical-align: middle;\n",
       "    }\n",
       "\n",
       "    .dataframe tbody tr th {\n",
       "        vertical-align: top;\n",
       "    }\n",
       "\n",
       "    .dataframe thead th {\n",
       "        text-align: right;\n",
       "    }\n",
       "</style>\n",
       "<table border=\"1\" class=\"dataframe\">\n",
       "  <thead>\n",
       "    <tr style=\"text-align: right;\">\n",
       "      <th></th>\n",
       "      <th>City</th>\n",
       "      <th>Place</th>\n",
       "      <th>Date</th>\n",
       "      <th>Time</th>\n",
       "      <th>Magnitude</th>\n",
       "    </tr>\n",
       "  </thead>\n",
       "  <tbody>\n",
       "    <tr>\n",
       "      <th>0</th>\n",
       "      <td>Washington, D.C.</td>\n",
       "      <td>7 km WNW of Calverton, Virginia</td>\n",
       "      <td>2013-06-13</td>\n",
       "      <td>18:14:24</td>\n",
       "      <td>2.04</td>\n",
       "    </tr>\n",
       "    <tr>\n",
       "      <th>1</th>\n",
       "      <td>Washington, D.C.</td>\n",
       "      <td>5 km NNW of Barnesville, Maryland</td>\n",
       "      <td>2010-07-16</td>\n",
       "      <td>12:04:47</td>\n",
       "      <td>3.60</td>\n",
       "    </tr>\n",
       "    <tr>\n",
       "      <th>2</th>\n",
       "      <td>Washington, D.C.</td>\n",
       "      <td>0 km NNE of Ravensworth, Virginia</td>\n",
       "      <td>2008-05-06</td>\n",
       "      <td>20:30:23</td>\n",
       "      <td>2.02</td>\n",
       "    </tr>\n",
       "    <tr>\n",
       "      <th>3</th>\n",
       "      <td>Washington, D.C.</td>\n",
       "      <td>3 km S of Butcher's Hill, Maryland</td>\n",
       "      <td>2005-02-23</td>\n",
       "      <td>17:22:44</td>\n",
       "      <td>2.00</td>\n",
       "    </tr>\n",
       "    <tr>\n",
       "      <th>4</th>\n",
       "      <td>Mexico City</td>\n",
       "      <td>3 km ESE of Venustiano Carranza, Mexico</td>\n",
       "      <td>2019-07-17</td>\n",
       "      <td>06:59:50</td>\n",
       "      <td>3.10</td>\n",
       "    </tr>\n",
       "  </tbody>\n",
       "</table>\n",
       "</div>"
      ],
      "text/plain": [
       "               City                                    Place        Date  \\\n",
       "0  Washington, D.C.          7 km WNW of Calverton, Virginia  2013-06-13   \n",
       "1  Washington, D.C.        5 km NNW of Barnesville, Maryland  2010-07-16   \n",
       "2  Washington, D.C.        0 km NNE of Ravensworth, Virginia  2008-05-06   \n",
       "3  Washington, D.C.       3 km S of Butcher's Hill, Maryland  2005-02-23   \n",
       "4       Mexico City  3 km ESE of Venustiano Carranza, Mexico  2019-07-17   \n",
       "\n",
       "       Time  Magnitude  \n",
       "0  18:14:24       2.04  \n",
       "1  12:04:47       3.60  \n",
       "2  20:30:23       2.02  \n",
       "3  17:22:44       2.00  \n",
       "4  06:59:50       3.10  "
      ]
     },
     "execution_count": 1,
     "metadata": {},
     "output_type": "execute_result"
    }
   ],
   "source": [
    "import pandas as pd\n",
    "\n",
    "earthquakes_data = pd.read_csv(\"earthquake_data.csv\")\n",
    "\n",
    "earthquakes_data.head()"
   ]
  }
 ],
 "metadata": {
  "kernelspec": {
   "display_name": "myenv",
   "language": "python",
   "name": "python3"
  },
  "language_info": {
   "codemirror_mode": {
    "name": "ipython",
    "version": 3
   },
   "file_extension": ".py",
   "mimetype": "text/x-python",
   "name": "python",
   "nbconvert_exporter": "python",
   "pygments_lexer": "ipython3",
   "version": "3.10.0"
  }
 },
 "nbformat": 4,
 "nbformat_minor": 2
}
